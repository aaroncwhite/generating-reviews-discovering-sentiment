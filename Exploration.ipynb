{
 "cells": [
  {
   "cell_type": "code",
   "execution_count": 1,
   "metadata": {},
   "outputs": [],
   "source": [
    "from encoder import Model\n",
    "from matplotlib import pyplot as plt\n",
    "from utils import sst_binary, train_with_reg_cv\n",
    "import seaborn as sns\n",
    "plt.style.use('ggplot')\n",
    "%load_ext autoreload\n",
    "%autoreload 2\n",
    "%matplotlib inline"
   ]
  },
  {
   "cell_type": "code",
   "execution_count": 2,
   "metadata": {},
   "outputs": [
    {
     "data": {
      "text/plain": [
       "[name: \"/device:CPU:0\"\n",
       " device_type: \"CPU\"\n",
       " memory_limit: 268435456\n",
       " locality {\n",
       " }\n",
       " incarnation: 14288571945864211411, name: \"/device:GPU:0\"\n",
       " device_type: \"GPU\"\n",
       " memory_limit: 3157432729\n",
       " locality {\n",
       "   bus_id: 1\n",
       "   links {\n",
       "   }\n",
       " }\n",
       " incarnation: 17277739087095732241\n",
       " physical_device_desc: \"device: 0, name: GeForce GTX 1050, pci bus id: 0000:01:00.0, compute capability: 6.1\"]"
      ]
     },
     "execution_count": 2,
     "metadata": {},
     "output_type": "execute_result"
    }
   ],
   "source": [
    "from tensorflow.python.client import device_lib\n",
    "device_lib.list_local_devices()"
   ]
  },
  {
   "cell_type": "code",
   "execution_count": 2,
   "metadata": {},
   "outputs": [
    {
     "name": "stdout",
     "output_type": "stream",
     "text": [
      "WARNING:tensorflow:From c:\\users\\awhite\\.virtualenvs\\generating-reviews-discovering-sentiment-sdajysrm\\lib\\site-packages\\tensorflow\\python\\framework\\op_def_library.py:263: colocate_with (from tensorflow.python.framework.ops) is deprecated and will be removed in a future version.\n",
      "Instructions for updating:\n",
      "Colocations handled automatically by placer.\n",
      "WARNING:tensorflow:From C:\\Users\\awhite\\development\\Practice\\generating-reviews-discovering-sentiment\\encoder.py:65: calling l2_normalize (from tensorflow.python.ops.nn_impl) with dim is deprecated and will be removed in a future version.\n",
      "Instructions for updating:\n",
      "dim is deprecated, use axis instead\n"
     ]
    }
   ],
   "source": [
    "model = Model()de"
   ]
  },
  {
   "cell_type": "code",
   "execution_count": 3,
   "metadata": {},
   "outputs": [],
   "source": [
    "trX, vaX, teX, trY, vaY, teY = sst_binary()"
   ]
  },
  {
   "cell_type": "code",
   "execution_count": 4,
   "metadata": {},
   "outputs": [
    {
     "name": "stdout",
     "output_type": "stream",
     "text": [
      "347.512 seconds to transform 6920 examples\n"
     ]
    }
   ],
   "source": [
    "trXt = model.transform(trX)"
   ]
  },
  {
   "cell_type": "code",
   "execution_count": 11,
   "metadata": {},
   "outputs": [
    {
     "name": "stdout",
     "output_type": "stream",
     "text": [
      "29.180 seconds to transform 872 examples\n"
     ]
    }
   ],
   "source": [
    "vaXt = model.transform(vaX)"
   ]
  },
  {
   "cell_type": "code",
   "execution_count": 5,
   "metadata": {},
   "outputs": [
    {
     "name": "stdout",
     "output_type": "stream",
     "text": [
      "59.108 seconds to transform 1821 examples\n"
     ]
    }
   ],
   "source": [
    "teXt = model.transform(teX)"
   ]
  },
  {
   "cell_type": "code",
   "execution_count": 5,
   "metadata": {},
   "outputs": [
    {
     "name": "stdout",
     "output_type": "stream",
     "text": [
      "WARNING:tensorflow:From c:\\users\\awhite\\.virtualenvs\\generating-reviews-discovering-sentiment-sdajysrm\\lib\\site-packages\\tensorflow\\python\\framework\\op_def_library.py:263: colocate_with (from tensorflow.python.framework.ops) is deprecated and will be removed in a future version.\n",
      "Instructions for updating:\n",
      "Colocations handled automatically by placer.\n",
      "WARNING:tensorflow:From C:\\Users\\awhite\\development\\Practice\\generating-reviews-discovering-sentiment\\encoder.py:59: calling l2_normalize (from tensorflow.python.ops.nn_impl) with dim is deprecated and will be removed in a future version.\n",
      "Instructions for updating:\n",
      "dim is deprecated, use axis instead\n",
      "1596.083 seconds to transform 6920 examples\n",
      "262.396 seconds to transform 872 examples\n",
      "468.513 seconds to transform 1821 examples\n"
     ]
    }
   ],
   "source": []
  },
  {
   "cell_type": "code",
   "execution_count": 6,
   "metadata": {},
   "outputs": [
    {
     "name": "stderr",
     "output_type": "stream",
     "text": [
      "c:\\users\\awhite\\.virtualenvs\\generating-reviews-discovering-sentiment-sdajysrm\\lib\\site-packages\\sklearn\\linear_model\\logistic.py:433: FutureWarning: Default solver will be changed to 'lbfgs' in 0.22. Specify a solver to silence this warning.\n",
      "  FutureWarning)\n",
      "c:\\users\\awhite\\.virtualenvs\\generating-reviews-discovering-sentiment-sdajysrm\\lib\\site-packages\\sklearn\\linear_model\\logistic.py:433: FutureWarning: Default solver will be changed to 'lbfgs' in 0.22. Specify a solver to silence this warning.\n",
      "  FutureWarning)\n",
      "c:\\users\\awhite\\.virtualenvs\\generating-reviews-discovering-sentiment-sdajysrm\\lib\\site-packages\\sklearn\\linear_model\\logistic.py:433: FutureWarning: Default solver will be changed to 'lbfgs' in 0.22. Specify a solver to silence this warning.\n",
      "  FutureWarning)\n",
      "c:\\users\\awhite\\.virtualenvs\\generating-reviews-discovering-sentiment-sdajysrm\\lib\\site-packages\\sklearn\\linear_model\\logistic.py:433: FutureWarning: Default solver will be changed to 'lbfgs' in 0.22. Specify a solver to silence this warning.\n",
      "  FutureWarning)\n",
      "c:\\users\\awhite\\.virtualenvs\\generating-reviews-discovering-sentiment-sdajysrm\\lib\\site-packages\\sklearn\\linear_model\\logistic.py:433: FutureWarning: Default solver will be changed to 'lbfgs' in 0.22. Specify a solver to silence this warning.\n",
      "  FutureWarning)\n",
      "c:\\users\\awhite\\.virtualenvs\\generating-reviews-discovering-sentiment-sdajysrm\\lib\\site-packages\\sklearn\\linear_model\\logistic.py:433: FutureWarning: Default solver will be changed to 'lbfgs' in 0.22. Specify a solver to silence this warning.\n",
      "  FutureWarning)\n",
      "c:\\users\\awhite\\.virtualenvs\\generating-reviews-discovering-sentiment-sdajysrm\\lib\\site-packages\\sklearn\\linear_model\\logistic.py:433: FutureWarning: Default solver will be changed to 'lbfgs' in 0.22. Specify a solver to silence this warning.\n",
      "  FutureWarning)\n",
      "c:\\users\\awhite\\.virtualenvs\\generating-reviews-discovering-sentiment-sdajysrm\\lib\\site-packages\\sklearn\\linear_model\\logistic.py:433: FutureWarning: Default solver will be changed to 'lbfgs' in 0.22. Specify a solver to silence this warning.\n",
      "  FutureWarning)\n",
      "c:\\users\\awhite\\.virtualenvs\\generating-reviews-discovering-sentiment-sdajysrm\\lib\\site-packages\\sklearn\\linear_model\\logistic.py:433: FutureWarning: Default solver will be changed to 'lbfgs' in 0.22. Specify a solver to silence this warning.\n",
      "  FutureWarning)\n",
      "c:\\users\\awhite\\.virtualenvs\\generating-reviews-discovering-sentiment-sdajysrm\\lib\\site-packages\\sklearn\\linear_model\\logistic.py:433: FutureWarning: Default solver will be changed to 'lbfgs' in 0.22. Specify a solver to silence this warning.\n",
      "  FutureWarning)\n"
     ]
    },
    {
     "name": "stdout",
     "output_type": "stream",
     "text": [
      "91.76 test accuracy\n",
      "00.25 regularization coef\n",
      "00145 features used\n"
     ]
    }
   ],
   "source": [
    "# classification results\n",
    "full_rep_acc, c, nnotzero = train_with_reg_cv(trXt, trY, vaXt, vaY, teXt, teY)\n",
    "print('%05.2f test accuracy'%full_rep_acc)\n",
    "print('%05.2f regularization coef'%c)\n",
    "print('%05d features used'%nnotzero)"
   ]
  },
  {
   "cell_type": "code",
   "execution_count": 7,
   "metadata": {},
   "outputs": [
    {
     "data": {
      "image/png": "[encoded data removed]",
      "text/plain": [
       "<Figure size 432x288 with 1 Axes>"
      ]
     },
     "metadata": {
      "needs_background": "light"
     },
     "output_type": "display_data"
    }
   ],
   "source": [
    "# visualize sentiment unit\n",
    "sentiment_unit = trXt[:, 2388]\n",
    "plt.hist(sentiment_unit[trY==0], bins=25, alpha=0.5, label='neg')\n",
    "plt.hist(sentiment_unit[trY==1], bins=25, alpha=0.5, label='pos')\n",
    "plt.legend()\n",
    "plt.show()"
   ]
  },
  {
   "cell_type": "code",
   "execution_count": 10,
   "metadata": {},
   "outputs": [],
   "source": [
    "\n",
    "'''This method returns the list of outputs for the specified neurons as and when the text is \n",
    "processed by the model\n",
    "'''\n",
    "import numpy as np\n",
    "\n",
    "def get_tracked_neuron_values_for_a_review(model, review_text, track_indices):\n",
    "    feats, tracked_indices_values = model.transform([review_text], track_indices=track_indices)\n",
    "    return np.array([np.array(vals).flatten() for vals in tracked_indices_values])"
   ]
  },
  {
   "cell_type": "code",
   "execution_count": 16,
   "metadata": {},
   "outputs": [],
   "source": [
    "'''This method plots the neuron values as a heatmap.\n",
    "'''\n",
    "import utils\n",
    "\n",
    "def plot_neuron_heatmap(text, values):\n",
    "    values = values.flatten()\n",
    "    preprocessed_text = utils.preprocess(text).decode()\n",
    "    n_limit = 64\n",
    "    num_chars = len(preprocessed_text)\n",
    "\n",
    "    for i in np.arange(0, len(values), n_limit):\n",
    "        if i + n_limit > num_chars:\n",
    "            end_index = num_chars\n",
    "            #num_values_to_read = num_chars - i\n",
    "            #values_limited = values[-num_values_to_read:]\n",
    "            #values_reshaped = values_limited.reshape((1, num_values_to_read))\n",
    "        else:\n",
    "            end_index = i+n_limit\n",
    "            \n",
    "        values_limited = values[i:end_index]\n",
    "        data = values_limited.reshape((1, min([n_limit, len(values_limited)])))\n",
    "        labels = np.array([x for x in preprocessed_text[i:end_index]]).reshape((1, min([n_limit, len(values_limited)])))\n",
    "#         labels[0,len(labels):n_limit] = ' '\n",
    "#         data[0,len(data):n_limit] = 0.0\n",
    "        fig, ax = plt.subplots(figsize=(20,0.5))\n",
    "        ax = sns.heatmap(data, annot = labels, fmt = '', annot_kws={\"size\":15}, vmin=-1, vmax=1, cmap='RdYlGn')"
   ]
  },
  {
   "cell_type": "code",
   "execution_count": 24,
   "metadata": {},
   "outputs": [],
   "source": [
    "text = \"I was very pleased with the service I received; however, the food was terrible and the AC was on way too high.  Not sure I will return.\""
   ]
  },
  {
   "cell_type": "code",
   "execution_count": 25,
   "metadata": {},
   "outputs": [
    {
     "name": "stdout",
     "output_type": "stream",
     "text": [
      "1.649 seconds to transform 1 examples\n"
     ]
    }
   ],
   "source": [
    "sentiment_neuron_index = 2388\n",
    "neuron_values = get_tracked_neuron_values_for_a_review(model, text, [sentiment_neuron_index])"
   ]
  },
  {
   "cell_type": "code",
   "execution_count": 27,
   "metadata": {},
   "outputs": [
    {
     "data": {
      "image/png": "[encoded data removed]",
      "text/plain": [
       "<Figure size 1440x36 with 2 Axes>"
      ]
     },
     "metadata": {
      "needs_background": "light"
     },
     "output_type": "display_data"
    },
    {
     "data": {
      "image/png": "[encoded data removed]",
      "text/plain": [
       "<Figure size 1440x36 with 2 Axes>"
      ]
     },
     "metadata": {
      "needs_background": "light"
     },
     "output_type": "display_data"
    },
    {
     "data": {
      "image/png": "[encoded data removed]",
      "text/plain": [
       "<Figure size 1440x36 with 2 Axes>"
      ]
     },
     "metadata": {
      "needs_background": "light"
     },
     "output_type": "display_data"
    }
   ],
   "source": [
    "plot_neuron_heatmap(text, neuron_values)"
   ]
  },
  {
   "cell_type": "code",
   "execution_count": null,
   "metadata": {},
   "outputs": [],
   "source": []
  }
 ],
 "metadata": {
  "kernelspec": {
   "display_name": "Python 3",
   "language": "python",
   "name": "python3"
  },
  "language_info": {
   "codemirror_mode": {
    "name": "ipython",
    "version": 3
   },
   "file_extension": ".py",
   "mimetype": "text/x-python",
   "name": "python",
   "nbconvert_exporter": "python",
   "pygments_lexer": "ipython3",
   "version": "3.6.2"
  }
 },
 "nbformat": 4,
 "nbformat_minor": 2
}
